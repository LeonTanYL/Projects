{
 "cells": [
  {
   "cell_type": "code",
   "execution_count": 1,
   "metadata": {},
   "outputs": [],
   "source": [
    "from IPython.display import clear_output"
   ]
  },
  {
   "cell_type": "code",
   "execution_count": 2,
   "metadata": {},
   "outputs": [],
   "source": [
    "def display_board(board):\n",
    "    clear_output()\n",
    "    print(\"{0:<5} | {1:^5} | {2:>5}\".format(\"\",\"\",\"\"))\n",
    "    print('{0:<5} | {1:^5} | {2:>5}'.format(board[1], board[2], board[3]))\n",
    "    print(\"{0:<5} | {1:^5} | {2:>5}\".format(\"\", \"\", \"\"))\n",
    "    print(\"*\"*21)\n",
    "    print(\"{0:<5} | {1:^5} | {2:>5}\".format(\"\",\"\",\"\"))\n",
    "    print('{0:<5} | {1:^5} | {2:>5}'.format(board[4], board[5], board[6]))\n",
    "    print(\"{0:<5} | {1:^5} | {2:>5}\".format(\"\", \"\", \"\"))\n",
    "    print(\"*\"*21)\n",
    "    print(\"{0:<5} | {1:^5} | {2:>5}\".format(\"\",\"\",\"\"))\n",
    "    print('{0:<5} | {1:^5} | {2:>5}'.format(board[7], board[8], board[9]))\n",
    "    print(\"{0:<5} | {1:^5} | {2:>5}\".format(\"\", \"\", \"\"))"
   ]
  },
  {
   "cell_type": "code",
   "execution_count": 3,
   "metadata": {},
   "outputs": [
    {
     "name": "stdout",
     "output_type": "stream",
     "text": [
      "      |       |      \n",
      "X     |   O   |     X\n",
      "      |       |      \n",
      "*********************\n",
      "      |       |      \n",
      "O     |   X   |     O\n",
      "      |       |      \n",
      "*********************\n",
      "      |       |      \n",
      "X     |   O   |     X\n",
      "      |       |      \n"
     ]
    }
   ],
   "source": [
    "test_board = [\"#\",'X','O','X','O','X','O','X','O','X']\n",
    "display_board(test_board)"
   ]
  },
  {
   "cell_type": "code",
   "execution_count": 4,
   "metadata": {},
   "outputs": [],
   "source": [
    "import random"
   ]
  },
  {
   "cell_type": "code",
   "execution_count": 5,
   "metadata": {},
   "outputs": [
    {
     "data": {
      "text/plain": [
       "2"
      ]
     },
     "execution_count": 5,
     "metadata": {},
     "output_type": "execute_result"
    }
   ],
   "source": [
    "random.randint(1,2)"
   ]
  },
  {
   "cell_type": "code",
   "execution_count": 6,
   "metadata": {},
   "outputs": [],
   "source": [
    "def coin_toss():\n",
    "    global starting_player\n",
    "    toss = random.randint(1,2)\n",
    "    if toss == 1:\n",
    "        print(\"Player 1 to choose between X and O first.\")\n",
    "        starting_player = 1\n",
    "    else:\n",
    "        print(\"Player 2 to choose between X and O first.\")\n",
    "        starting_player = 2"
   ]
  },
  {
   "cell_type": "code",
   "execution_count": 7,
   "metadata": {},
   "outputs": [
    {
     "name": "stdout",
     "output_type": "stream",
     "text": [
      "Player 2 to choose between X and O first.\n"
     ]
    }
   ],
   "source": [
    "coin_toss()"
   ]
  },
  {
   "cell_type": "code",
   "execution_count": 8,
   "metadata": {},
   "outputs": [
    {
     "data": {
      "text/plain": [
       "2"
      ]
     },
     "execution_count": 8,
     "metadata": {},
     "output_type": "execute_result"
    }
   ],
   "source": [
    "starting_player"
   ]
  },
  {
   "cell_type": "code",
   "execution_count": 12,
   "metadata": {},
   "outputs": [],
   "source": [
    "def player_input():\n",
    "    player_choice = \"\"\n",
    "    \n",
    "    global starting_player\n",
    "    \n",
    "    while player_choice != \"X\" and player_choice!= \"O\":\n",
    "        player_choice = input(\"Please choose between X and O: \")\n",
    "\n",
    "        if player_choice not in [\"X\",\"O\"]:\n",
    "            clear_output()\n",
    "            print(\"Invalid choice. Please choose only between X and O.\")\n",
    "            print()\n",
    "    \n",
    "    if starting_player == 1:\n",
    "        player_1 = player_choice\n",
    "        if player_1 == \"X\":\n",
    "            player_2 = \"O\"\n",
    "            print(\"Player 1 to go first.\")\n",
    "        else:\n",
    "            player_2 = \"X\"\n",
    "    else: \n",
    "        player_2 = player_choice\n",
    "        if player_2 == \"X\":\n",
    "            player_1 = \"O\"\n",
    "            print(\"Player 2 to go first.\")\n",
    "        else:\n",
    "            player_1 = \"X\"\n",
    "        \n",
    "    return(player_1,player_2)"
   ]
  },
  {
   "cell_type": "code",
   "execution_count": 9,
   "metadata": {},
   "outputs": [],
   "source": [
    "def player_input_1():\n",
    "    player_choice = \"\"\n",
    "    \n",
    "    while player_choice != \"X\" and player_choice!= \"O\":\n",
    "        player_choice = input(\"Please choose between X and O: \")\n",
    "        \n",
    "        if player_choice not in [\"X\",\"O\"]:\n",
    "            clear_output()\n",
    "            print(\"Invalid choice. Please choose only between X and O.\")\n",
    "            print()\n",
    "\n",
    "    player_1 = player_choice\n",
    "    if player_1 == \"X\":\n",
    "        player_2 = \"O\"\n",
    "        print(\"Player 1 to go first.\")\n",
    "    else:\n",
    "        player_2 = \"X\"\n",
    "        print(\"Player 2 to go first.\")\n",
    "        \n",
    "    return(player_1,player_2)"
   ]
  },
  {
   "cell_type": "code",
   "execution_count": 10,
   "metadata": {},
   "outputs": [
    {
     "name": "stdout",
     "output_type": "stream",
     "text": [
      "Invalid choice. Please choose only between X and O.\n",
      "\n",
      "Please choose between X and O: X\n",
      "Player 1 to go first.\n"
     ]
    },
    {
     "data": {
      "text/plain": [
       "('X', 'O')"
      ]
     },
     "execution_count": 10,
     "metadata": {},
     "output_type": "execute_result"
    }
   ],
   "source": [
    "player_input_1()"
   ]
  },
  {
   "cell_type": "code",
   "execution_count": 11,
   "metadata": {},
   "outputs": [],
   "source": [
    "def player_input_2():\n",
    "    player_choice = \"\"\n",
    "    \n",
    "    while player_choice != \"X\" and player_choice!= \"O\":\n",
    "        player_choice = input(\"Please choose between X and O: \")\n",
    "        \n",
    "        if player_choice not in [\"X\",\"O\"]:\n",
    "            clear_output()\n",
    "            print(\"Invalid choice. Please choose only between X and O.\")\n",
    "            print()\n",
    "\n",
    "    player_2 = player_choice\n",
    "    if player_2 == \"X\":\n",
    "        player_1 = \"O\"\n",
    "    else:\n",
    "        player_1 = \"X\"\n",
    "        \n",
    "    return(player_1,player_2)"
   ]
  },
  {
   "cell_type": "code",
   "execution_count": 13,
   "metadata": {},
   "outputs": [],
   "source": [
    "def replay():\n",
    "    replay_choice = \"\"\n",
    "    \n",
    "    while replay_choice != \"Y\" and replay_choice != \"N\":\n",
    "        replay_choice = input(\"Would you like to keep playing? (Y/N)\")\n",
    "        \n",
    "        if replay_choice not in [\"Y\",\"N\"]:\n",
    "            clear_output()\n",
    "            print(\"Invalid choice. Please choose only between Y and N.\")\n",
    "            print()\n",
    "\n",
    "    if replay_choice == \"Y\":\n",
    "        return True\n",
    "    else:\n",
    "        return False"
   ]
  },
  {
   "cell_type": "code",
   "execution_count": 14,
   "metadata": {},
   "outputs": [
    {
     "name": "stdout",
     "output_type": "stream",
     "text": [
      "Would you like to keep playing? (Y/N)Y\n"
     ]
    },
    {
     "data": {
      "text/plain": [
       "True"
      ]
     },
     "execution_count": 14,
     "metadata": {},
     "output_type": "execute_result"
    }
   ],
   "source": [
    "replay()"
   ]
  },
  {
   "cell_type": "code",
   "execution_count": 15,
   "metadata": {},
   "outputs": [],
   "source": [
    "test_board2 = ['#','','','','','','','','','']"
   ]
  },
  {
   "cell_type": "code",
   "execution_count": 16,
   "metadata": {},
   "outputs": [],
   "source": [
    "def place_marker(board,marker,position):\n",
    "    board[position] = marker"
   ]
  },
  {
   "cell_type": "code",
   "execution_count": 17,
   "metadata": {},
   "outputs": [],
   "source": [
    "place_marker(test_board2,'$',8)"
   ]
  },
  {
   "cell_type": "code",
   "execution_count": 18,
   "metadata": {},
   "outputs": [
    {
     "name": "stdout",
     "output_type": "stream",
     "text": [
      "      |       |      \n",
      "      |       |      \n",
      "      |       |      \n",
      "*********************\n",
      "      |       |      \n",
      "      |       |      \n",
      "      |       |      \n",
      "*********************\n",
      "      |       |      \n",
      "      |   $   |      \n",
      "      |       |      \n"
     ]
    }
   ],
   "source": [
    "display_board(test_board2)"
   ]
  },
  {
   "cell_type": "code",
   "execution_count": 19,
   "metadata": {},
   "outputs": [],
   "source": [
    "def win_check(board, mark):\n",
    "    if board[7] == board[8] == board[9] == mark or board[4] == board[5] == board[6] == mark or board[1] == board[2] == board[3] == mark:\n",
    "        return (mark + \" is the Winner!\")\n",
    "    elif board[1] == board[4] == board[7] == mark or board[2] == board[5] == board[8] == mark or board[3] == board[6] == board[9] == mark:\n",
    "        return (mark + \" is the Winner!\")\n",
    "    elif board[1] == board[5] == board[9] == mark or board[3] == board[5] == board[7] == mark:\n",
    "        return (mark + \" is the Winner!\")\n",
    "    else:\n",
    "        return \"\""
   ]
  },
  {
   "cell_type": "code",
   "execution_count": 20,
   "metadata": {},
   "outputs": [],
   "source": [
    "def draw_check(board):\n",
    "    if \"\" not in board:\n",
    "        return \"Draw\"\n",
    "    else:\n",
    "        return \"\""
   ]
  },
  {
   "cell_type": "code",
   "execution_count": 21,
   "metadata": {},
   "outputs": [
    {
     "data": {
      "text/plain": [
       "'X is the Winner!'"
      ]
     },
     "execution_count": 21,
     "metadata": {},
     "output_type": "execute_result"
    }
   ],
   "source": [
    "win_check(test_board,'X')"
   ]
  },
  {
   "cell_type": "code",
   "execution_count": 22,
   "metadata": {},
   "outputs": [],
   "source": [
    "def space_check(board, position):\n",
    "    if board[position] == \"\":\n",
    "        return True\n",
    "    else:\n",
    "        return False"
   ]
  },
  {
   "cell_type": "code",
   "execution_count": 23,
   "metadata": {},
   "outputs": [
    {
     "data": {
      "text/plain": [
       "True"
      ]
     },
     "execution_count": 23,
     "metadata": {},
     "output_type": "execute_result"
    }
   ],
   "source": [
    "space_check(test_board2,6)"
   ]
  },
  {
   "cell_type": "code",
   "execution_count": 24,
   "metadata": {},
   "outputs": [
    {
     "data": {
      "text/plain": [
       "False"
      ]
     },
     "execution_count": 24,
     "metadata": {},
     "output_type": "execute_result"
    }
   ],
   "source": [
    "space_check(test_board,6)"
   ]
  },
  {
   "cell_type": "code",
   "execution_count": 25,
   "metadata": {},
   "outputs": [],
   "source": [
    "def full_board_check(board):\n",
    "    if \"\" not in board:\n",
    "        return True\n",
    "    else:\n",
    "        return False"
   ]
  },
  {
   "cell_type": "code",
   "execution_count": 26,
   "metadata": {},
   "outputs": [
    {
     "data": {
      "text/plain": [
       "True"
      ]
     },
     "execution_count": 26,
     "metadata": {},
     "output_type": "execute_result"
    }
   ],
   "source": [
    "full_board_check(test_board)"
   ]
  },
  {
   "cell_type": "code",
   "execution_count": 27,
   "metadata": {},
   "outputs": [
    {
     "data": {
      "text/plain": [
       "False"
      ]
     },
     "execution_count": 27,
     "metadata": {},
     "output_type": "execute_result"
    }
   ],
   "source": [
    "full_board_check(test_board2)"
   ]
  },
  {
   "cell_type": "code",
   "execution_count": 28,
   "metadata": {},
   "outputs": [
    {
     "data": {
      "text/plain": [
       "['#', '', '', '', '', '', '', '', '$', '']"
      ]
     },
     "execution_count": 28,
     "metadata": {},
     "output_type": "execute_result"
    }
   ],
   "source": [
    "test_board2"
   ]
  },
  {
   "cell_type": "code",
   "execution_count": 29,
   "metadata": {},
   "outputs": [],
   "source": [
    "def player_choice():\n",
    "    choice = \"\"\n",
    "    number_list = [\"1\",\"2\",\"3\",\"4\",\"5\",\"6\",\"7\",\"8\",\"9\"]\n",
    "    \n",
    "    while choice not in number_list:\n",
    "        choice = input(\"Please pick a number from 1-9 for your marker position: \")\n",
    "        \n",
    "        if choice not in number_list:\n",
    "            clear_output()\n",
    "            print(\"Please only pick a number from 1-9.\")\n",
    "            print()\n",
    "            \n",
    "    return int(choice)"
   ]
  },
  {
   "cell_type": "code",
   "execution_count": 30,
   "metadata": {},
   "outputs": [],
   "source": [
    "test_board3 = ['#','','','','','','','','','']"
   ]
  },
  {
   "cell_type": "code",
   "execution_count": 31,
   "metadata": {},
   "outputs": [],
   "source": [
    "def game_start_choice():\n",
    "    choice = \"\"\n",
    "    print(\"Welcome to Tic Tac Toe!\")\n",
    "    while choice not in [\"Y\",\"N\"]:\n",
    "        choice = input(\"Are you ready to play? Y/N :\")\n",
    "        \n",
    "        if choice not in [\"Y\",\"N\"]:\n",
    "            clear_output()\n",
    "            print(\"Sorry, please enter Y or N to continue.\")\n",
    "    \n",
    "    return choice"
   ]
  },
  {
   "cell_type": "code",
   "execution_count": 32,
   "metadata": {},
   "outputs": [],
   "source": [
    "game_status = full_board_check(test_board3)"
   ]
  },
  {
   "cell_type": "code",
   "execution_count": 33,
   "metadata": {},
   "outputs": [
    {
     "data": {
      "text/plain": [
       "False"
      ]
     },
     "execution_count": 33,
     "metadata": {},
     "output_type": "execute_result"
    }
   ],
   "source": [
    "game_status"
   ]
  },
  {
   "cell_type": "code",
   "execution_count": 34,
   "metadata": {},
   "outputs": [
    {
     "ename": "TypeError",
     "evalue": "space_check() missing 1 required positional argument: 'position'",
     "output_type": "error",
     "traceback": [
      "\u001b[0;31m---------------------------------------------------------------------------\u001b[0m",
      "\u001b[0;31mTypeError\u001b[0m                                 Traceback (most recent call last)",
      "\u001b[0;32m<ipython-input-34-54429fd32541>\u001b[0m in \u001b[0;36m<module>\u001b[0;34m\u001b[0m\n\u001b[0;32m----> 1\u001b[0;31m \u001b[0mspace_checker\u001b[0m \u001b[0;34m=\u001b[0m \u001b[0mspace_check\u001b[0m\u001b[0;34m(\u001b[0m\u001b[0mtest_board3\u001b[0m\u001b[0;34m)\u001b[0m\u001b[0;34m\u001b[0m\u001b[0;34m\u001b[0m\u001b[0m\n\u001b[0m",
      "\u001b[0;31mTypeError\u001b[0m: space_check() missing 1 required positional argument: 'position'"
     ]
    }
   ],
   "source": [
    "space_checker = space_check(test_board3)"
   ]
  },
  {
   "cell_type": "code",
   "execution_count": 35,
   "metadata": {},
   "outputs": [
    {
     "name": "stdout",
     "output_type": "stream",
     "text": [
      "Please pick a number from 1-9 for your marker position: 1\n"
     ]
    }
   ],
   "source": [
    "x = player_choice()"
   ]
  },
  {
   "cell_type": "code",
   "execution_count": 36,
   "metadata": {},
   "outputs": [
    {
     "data": {
      "text/plain": [
       "int"
      ]
     },
     "execution_count": 36,
     "metadata": {},
     "output_type": "execute_result"
    }
   ],
   "source": [
    "type(x)"
   ]
  },
  {
   "cell_type": "code",
   "execution_count": 41,
   "metadata": {},
   "outputs": [
    {
     "name": "stdout",
     "output_type": "stream",
     "text": [
      "      |       |      \n",
      "X     |   O   |      \n",
      "      |       |      \n",
      "*********************\n",
      "      |       |      \n",
      "X     |   O   |      \n",
      "      |       |      \n",
      "*********************\n",
      "      |       |      \n",
      "      |   O   |      \n",
      "      |       |      \n",
      "O is the Winner!\n",
      "Would you like to keep playing? (Y/N)N\n"
     ]
    }
   ],
   "source": [
    "checker = True\n",
    "test_board3 = ['#','','','','','','','','','']\n",
    "\n",
    "print(\"Welcome to Tic Tac Toe!\")\n",
    "starting_player = 0\n",
    "coin_toss()\n",
    "player1,player2 = player_input()\n",
    "display_board(test_board3)\n",
    "\n",
    "while checker:\n",
    "    if starting_player == 1: \n",
    "        position1 = player_choice()\n",
    "        space_checker = space_check(test_board3, position1)\n",
    "        if space_checker:\n",
    "            place_marker(test_board3, player1, position1)\n",
    "            display_board(test_board3)\n",
    "            \n",
    "            victory = win_check(test_board3,player1)    \n",
    "            draw = draw_check(test_board3)\n",
    "            \n",
    "            if \"Winner\" in victory:\n",
    "                print(victory)\n",
    "                choice = replay()\n",
    "                if choice == True:\n",
    "                    test_board3 = ['#','','','','','','','','','']\n",
    "                    print(\"Restarting Tic Tac Toe!\")\n",
    "                    starting_player = 0\n",
    "                    coin_toss()\n",
    "                    player1,player2 = player_input()\n",
    "                    display_board(test_board3)\n",
    "                else:\n",
    "                    checker = False\n",
    "                    break\n",
    "                    \n",
    "            elif \"Draw\" in draw:\n",
    "                print(draw)\n",
    "                choice = replay()\n",
    "                if choice == True:\n",
    "                    test_board3 = ['#','','','','','','','','','']\n",
    "                    print(\"Restarting Tic Tac Toe!\")\n",
    "                    starting_player = 0\n",
    "                    coin_toss()\n",
    "                    player1,player2 = player_input()\n",
    "                    display_board(test_board3)\n",
    "\n",
    "                else:\n",
    "                    checker = False\n",
    "                    break\n",
    "            else:\n",
    "                pass\n",
    "            \n",
    "        else: \n",
    "            print(\"Position taken. Please choose a different position.\")\n",
    "\n",
    "        position2 = player_choice()\n",
    "        space_checker2 = space_check(test_board3,position2)\n",
    "        if space_checker2:\n",
    "            place_marker(test_board3, player2, position2)\n",
    "            display_board(test_board3)\n",
    "            victory2 = win_check(test_board3, player2)\n",
    "            draw = draw_check(test_board3)\n",
    "            \n",
    "            if \"Winner\" in victory2:\n",
    "                print(victory2)\n",
    "                choice = replay()\n",
    "                if choice == True:\n",
    "                    test_board3 = ['#','','','','','','','','','']\n",
    "                    print(\"Restarting Tic Tac Toe!\")\n",
    "                    starting_player = 0\n",
    "                    coin_toss()\n",
    "                    player1,player2 = player_input()\n",
    "                    display_board(test_board3)\n",
    "                else:\n",
    "                    checker = False\n",
    "                    break\n",
    "                    \n",
    "            elif \"Draw\" in draw:\n",
    "                print(draw)\n",
    "                choice = replay()\n",
    "                if choice == True:\n",
    "                    test_board3 = ['#','','','','','','','','','']\n",
    "                    print(\"Restarting Tic Tac Toe!\")\n",
    "                    starting_player = 0\n",
    "                    coin_toss()\n",
    "                    player1,player2 = player_input()\n",
    "                    display_board(test_board3)\n",
    "                else:\n",
    "                    checker = False\n",
    "                    break\n",
    "            else:\n",
    "                pass \n",
    "    \n",
    "            \n",
    "        else:\n",
    "            print(\"Position taken. Please choose a different position.\")\n",
    "            \n",
    "    else:\n",
    "        position2 = player_choice()\n",
    "        space_checker2 = space_check(test_board3,position2)\n",
    "        if space_checker2:\n",
    "            place_marker(test_board3, player2, position2)\n",
    "            display_board(test_board3)\n",
    "            victory2 = win_check(test_board3, player2)\n",
    "            draw = draw_check(test_board3)\n",
    "            \n",
    "            if \"Winner\" in victory2:\n",
    "                print(victory2)\n",
    "                choice = replay()\n",
    "                if choice == True:\n",
    "                    test_board3 = ['#','','','','','','','','','']\n",
    "                    print(\"Restarting Tic Tac Toe!\")\n",
    "                    starting_player = 0\n",
    "                    coin_toss()\n",
    "                    player1,player2 = player_input()\n",
    "                    display_board(test_board3)\n",
    "                else:\n",
    "                    checker = False\n",
    "                    break\n",
    "            elif \"Draw\" in draw:\n",
    "                print(draw)\n",
    "                choice = replay()\n",
    "                if choice == True:\n",
    "                    test_board3 = ['#','','','','','','','','','']\n",
    "                    print(\"Restarting Tic Tac Toe!\")\n",
    "                    starting_player = 0\n",
    "                    coin_toss()\n",
    "                    player1,player2 = player_input()\n",
    "                    display_board(test_board3)\n",
    "                else:\n",
    "                    checker = False\n",
    "                    break\n",
    "                    \n",
    "            else:\n",
    "                pass       \n",
    "        else:\n",
    "            print(\"Position taken. Please choose a different position.\")\n",
    "\n",
    "            \n",
    "        position1 = player_choice()\n",
    "        space_checker = space_check(test_board3, position1)\n",
    "        if space_checker:\n",
    "            place_marker(test_board3, player1, position1)\n",
    "            display_board(test_board3)\n",
    "            \n",
    "            draw = draw_check(test_board3)\n",
    "            victory = win_check(test_board3,player1)    \n",
    "\n",
    "        else: \n",
    "            print(\"Position taken. Please choose a different position.\")\n",
    "            \n",
    "        if \"Winner\" in victory:\n",
    "            print(victory)\n",
    "            choice = replay()\n",
    "            if choice == True:\n",
    "                test_board3 = ['#','','','','','','','','','']\n",
    "                print(\"Restarting Tic Tac Toe!\")\n",
    "                starting_player = 0\n",
    "                coin_toss()\n",
    "                player1,player2 = player_input()\n",
    "                display_board(test_board3)\n",
    "            else:\n",
    "                checker = False\n",
    "                break\n",
    "        else:\n",
    "            pass\n",
    "        \n",
    "        if \"Draw\" in draw:\n",
    "            print(draw)\n",
    "            choice = replay()\n",
    "            if choice == True:\n",
    "                test_board3 = ['#','','','','','','','','','']\n",
    "                print(\"Restarting Tic Tac Toe!\")\n",
    "                starting_player = 0\n",
    "                coin_toss()\n",
    "                player1,player2 = player_input()\n",
    "                display_board(test_board3)\n",
    "            else:\n",
    "                checker = False\n",
    "                break\n",
    "        else:\n",
    "            pass"
   ]
  },
  {
   "cell_type": "code",
   "execution_count": 110,
   "metadata": {},
   "outputs": [],
   "source": [
    "y = win_check(test_board,\"X\")"
   ]
  },
  {
   "cell_type": "code",
   "execution_count": 111,
   "metadata": {},
   "outputs": [
    {
     "data": {
      "text/plain": [
       "'X is the Winner!'"
      ]
     },
     "execution_count": 111,
     "metadata": {},
     "output_type": "execute_result"
    }
   ],
   "source": [
    "y"
   ]
  },
  {
   "cell_type": "code",
   "execution_count": 112,
   "metadata": {},
   "outputs": [
    {
     "name": "stdout",
     "output_type": "stream",
     "text": [
      "X is the Winner!\n"
     ]
    }
   ],
   "source": [
    "check2 = True \n",
    "\n",
    "while check2:\n",
    "    if \"Winner\" in y:\n",
    "        print(y)\n",
    "        check2 = False\n",
    "    else:\n",
    "        pass"
   ]
  },
  {
   "cell_type": "code",
   "execution_count": 76,
   "metadata": {},
   "outputs": [
    {
     "name": "stdout",
     "output_type": "stream",
     "text": [
      "success\n"
     ]
    }
   ],
   "source": [
    "if \"Winner\" in y:\n",
    "    print(\"success\")"
   ]
  },
  {
   "cell_type": "code",
   "execution_count": 23,
   "metadata": {},
   "outputs": [
    {
     "name": "stdout",
     "output_type": "stream",
     "text": [
      "Left==== | -Center- | ...Right\n",
      "Left==== | -Center- | ...Right\n",
      "Left==== | -Center- | ...Right\n"
     ]
    }
   ],
   "source": [
    "print('{0:=<8} | {1:-^8} | {2:.>8}'.format('Left','Center','Right'))\n",
    "print('{0:=<8} | {1:-^8} | {2:.>8}'.format('Left','Center','Right'))\n",
    "print('{0:=<8} | {1:-^8} | {2:.>8}'.format('Left','Center','Right'))"
   ]
  },
  {
   "cell_type": "code",
   "execution_count": 24,
   "metadata": {},
   "outputs": [
    {
     "name": "stdout",
     "output_type": "stream",
     "text": [
      "Left     |  Center  |    Right\n",
      "Left     |  Center  |    Right\n",
      "Left     |  Center  |    Right\n"
     ]
    }
   ],
   "source": [
    "print('{0:<8} | {1:^8} | {2:>8}'.format('Left','Center','Right'))\n",
    "print('{0:<8} | {1:^8} | {2:>8}'.format('Left','Center','Right'))\n",
    "print('{0:<8} | {1:^8} | {2:>8}'.format('Left','Center','Right'))"
   ]
  },
  {
   "cell_type": "code",
   "execution_count": 31,
   "metadata": {},
   "outputs": [
    {
     "name": "stdout",
     "output_type": "stream",
     "text": [
      "      |       |      \n",
      "X     |   O   |     X\n",
      "      |       |      \n",
      "*********************\n",
      "      |       |      \n",
      "O     |   X   |     O\n",
      "      |       |      \n",
      "*********************\n",
      "      |       |      \n",
      "X     |   O   |     X\n",
      "      |       |      \n"
     ]
    }
   ],
   "source": [
    "print(\"{0:<5} | {1:^5} | {2:>5}\".format(\"\",\"\",\"\"))\n",
    "print('{0:<5} | {1:^5} | {2:>5}'.format(test_board[1], test_board[2], test_board[3]))\n",
    "print(\"{0:<5} | {1:^5} | {2:>5}\".format(\"\", \"\", \"\"))\n",
    "print(\"*\"*21)\n",
    "print(\"{0:<5} | {1:^5} | {2:>5}\".format(\"\",\"\",\"\"))\n",
    "print('{0:<5} | {1:^5} | {2:>5}'.format(test_board[4], test_board[5], test_board[6]))\n",
    "print(\"{0:<5} | {1:^5} | {2:>5}\".format(\"\", \"\", \"\"))\n",
    "print(\"*\"*21)\n",
    "print(\"{0:<5} | {1:^5} | {2:>5}\".format(\"\",\"\",\"\"))\n",
    "print('{0:<5} | {1:^5} | {2:>5}'.format(test_board[7], test_board[8], test_board[9]))\n",
    "print(\"{0:<5} | {1:^5} | {2:>5}\".format(\"\", \"\", \"\"))"
   ]
  },
  {
   "cell_type": "code",
   "execution_count": 27,
   "metadata": {},
   "outputs": [
    {
     "name": "stdout",
     "output_type": "stream",
     "text": [
      "#        |    X     |        O\n"
     ]
    }
   ],
   "source": [
    "print(\"{0:<8} | {1:^8} | {2:>8}\".format(test_board[0], test_board[1], test_board[2]))"
   ]
  },
  {
   "cell_type": "code",
   "execution_count": 29,
   "metadata": {},
   "outputs": [
    {
     "name": "stdout",
     "output_type": "stream",
     "text": [
      "X     |   O   |     X\n",
      "O     |   X   |     O\n",
      "X     |   O   |     X\n"
     ]
    }
   ],
   "source": [
    "print('{0:<5} | {1:^5} | {2:>5}'.format(test_board[1], test_board[2], test_board[3]))\n",
    "print('{0:<5} | {1:^5} | {2:>5}'.format(test_board[4], test_board[5], test_board[6]))\n",
    "print('{0:<5} | {1:^5} | {2:>5}'.format(test_board[7], test_board[8], test_board[9]))"
   ]
  }
 ],
 "metadata": {
  "kernelspec": {
   "display_name": "Python 3",
   "language": "python",
   "name": "python3"
  },
  "language_info": {
   "codemirror_mode": {
    "name": "ipython",
    "version": 3
   },
   "file_extension": ".py",
   "mimetype": "text/x-python",
   "name": "python",
   "nbconvert_exporter": "python",
   "pygments_lexer": "ipython3",
   "version": "3.8.5"
  }
 },
 "nbformat": 4,
 "nbformat_minor": 4
}
