{
 "cells": [
  {
   "cell_type": "markdown",
   "metadata": {},
   "source": [
    "# Programming in Python I - Project"
   ]
  },
  {
   "cell_type": "markdown",
   "metadata": {},
   "source": [
    "### For this project, you have to provide the solutions for the following 4 questions. Code your answers directly into the cell after each question. Be sure to run them to ensure that your code works. \n",
    "\n",
    "### After you have completed the questions, zip this file and upload this file back into the Course Content portal."
   ]
  },
  {
   "cell_type": "markdown",
   "metadata": {},
   "source": [
    "## 1. Write a function named <code>vowel()</code> to check if  a given string contains a vowel."
   ]
  },
  {
   "cell_type": "code",
   "execution_count": 1,
   "metadata": {},
   "outputs": [
    {
     "name": "stdout",
     "output_type": "stream",
     "text": [
      "NPSP\n",
      "False\n"
     ]
    }
   ],
   "source": [
    "check= 'aeiou'\n",
    "\n",
    "def vowel (s): \n",
    "    for checker in s:\n",
    "        if checker in check:\n",
    "            return True\n",
    "    return False         \n",
    "\n",
    "s = input()\n",
    "print (vowel(s.lower()))"
   ]
  },
  {
   "cell_type": "markdown",
   "metadata": {},
   "source": [
    "## 2. Write a function named <code>reverse()</code> that reverses a string."
   ]
  },
  {
   "cell_type": "code",
   "execution_count": 2,
   "metadata": {},
   "outputs": [
    {
     "name": "stdout",
     "output_type": "stream",
     "text": [
      "data\n",
      "atad\n"
     ]
    }
   ],
   "source": [
    "def reverse (n):\n",
    "    return n[::-1]\n",
    "\n",
    "x = input()\n",
    "print (reverse(x.lower()))"
   ]
  },
  {
   "cell_type": "markdown",
   "metadata": {},
   "source": [
    "## 3.\tWrite a function named <code>max_and_min()</code> that takes in a list of numbers and returns the maximum and minimum."
   ]
  },
  {
   "cell_type": "code",
   "execution_count": 3,
   "metadata": {},
   "outputs": [
    {
     "name": "stdout",
     "output_type": "stream",
     "text": [
      "(5, 1)\n"
     ]
    }
   ],
   "source": [
    "def max_and_min(n):\n",
    "    return max(n), min(n)\n",
    "\n",
    "x = [1,2,3,4,5]\n",
    "print (max_and_min(x))"
   ]
  },
  {
   "cell_type": "markdown",
   "metadata": {},
   "source": [
    "## 4.\tWrite a function named <code>palindrome()</code> that checks if a string is a palindrome."
   ]
  },
  {
   "cell_type": "code",
   "execution_count": 5,
   "metadata": {},
   "outputs": [
    {
     "name": "stdout",
     "output_type": "stream",
     "text": [
      "Nurses Run\n",
      "True\n"
     ]
    }
   ],
   "source": [
    "def palindrome(s):\n",
    "    s1 = s.replace(\" \",\"\")\n",
    "    if s1 == s1[::-1]:\n",
    "        return True\n",
    "    else:\n",
    "        return False\n",
    "\n",
    "x = input()\n",
    "print (palindrome(x.lower()))"
   ]
  },
  {
   "cell_type": "code",
   "execution_count": null,
   "metadata": {},
   "outputs": [],
   "source": []
  }
 ],
 "metadata": {
  "kernelspec": {
   "display_name": "Python 3",
   "language": "python",
   "name": "python3"
  },
  "language_info": {
   "codemirror_mode": {
    "name": "ipython",
    "version": 3
   },
   "file_extension": ".py",
   "mimetype": "text/x-python",
   "name": "python",
   "nbconvert_exporter": "python",
   "pygments_lexer": "ipython3",
   "version": "3.8.5"
  }
 },
 "nbformat": 4,
 "nbformat_minor": 2
}
